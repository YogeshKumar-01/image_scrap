{
 "cells": [
  {
   "cell_type": "code",
   "execution_count": 50,
   "id": "f6952b2b-849e-46a4-b37c-70abae75f3ff",
   "metadata": {},
   "outputs": [],
   "source": [
    "import requests\n",
    "from bs4 import BeautifulSoup\n",
    "from urllib.request import urlopen as uReq\n",
    "import logging\n",
    "# import pymongo\n",
    "import os"
   ]
  },
  {
   "cell_type": "code",
   "execution_count": 51,
   "id": "e29d1f94-8020-4d82-b4be-b3599bc82e90",
   "metadata": {},
   "outputs": [],
   "source": [
    "save_dir = \"images/\"\n",
    "if not os.path.exists(save_dir):\n",
    "    os.makedirs(save_dir)"
   ]
  },
  {
   "cell_type": "code",
   "execution_count": 52,
   "id": "bab9e323-8ca5-41f9-8c6b-d934ac94f3ab",
   "metadata": {},
   "outputs": [],
   "source": [
    "# headers = headers = {'User-Agent': 'Mozilla/5.0 (Windows NT 10.0; Win64; x64) AppleWebKit/537.36 (KHTML, like Gecko) Chrome/58.0.3029.110 Safari/537.36'}"
   ]
  },
  {
   "cell_type": "code",
   "execution_count": 72,
   "id": "12cf0655-f1d7-4e5d-9abd-a67e120f495e",
   "metadata": {},
   "outputs": [],
   "source": [
    "query = \"sudhanshu kumar\"\n",
    "response = requests.get(f\"https://www.google.com/search?sca_esv=c4c1450a5839235a&sxsrf=ADLYWIL_LcIXGYDt13ylZeteNSizM1XnfA:1725818773018&q={query}&udm=2&fbs=AEQNm0CvspUPonaF8UH5s_LBD3JPX4RSeMPt9v8oIaeGMh2T2D1DyqhnuPxLgMgOaYPYX7OtOF4SxbM4YPsyWUMdeXRPwkyeRplzDXh9KJHChwS6KCbBVodhGp-AcH8homeOiCGyiZuaY1G_5tedT4jPIsiksMA7BGF31HBi471hLFrmywtqgnVty39wwsA8UmD7ZxvUBA98n-Cb4_QpoQbmkWQCbrUVMQ&sa=X&ved=2ahUKEwi0_6X397OIAxXYzzgGHYbLL8IQtKgLegQIIBAB&biw=1396&bih=680&dpr=1.38\")"
   ]
  },
  {
   "cell_type": "code",
   "execution_count": 73,
   "id": "805e89ea-9665-46b6-8907-aac16e7d9bbf",
   "metadata": {},
   "outputs": [],
   "source": [
    "soup = BeautifulSoup(response.content, 'html.parser')"
   ]
  },
  {
   "cell_type": "code",
   "execution_count": 74,
   "id": "d9691bd6-7ce2-4521-bece-54fa2a53b0ea",
   "metadata": {},
   "outputs": [
    {
     "data": {
      "text/plain": [
       "<!DOCTYPE html PUBLIC \"-//WAPFORUM//DTD XHTML Mobile 1.0//EN\" \"http://www.wapforum.org/DTD/xhtml-mobile10.dtd\">\n",
       "<html lang=\"en-IN\" xmlns=\"http://www.w3.org/1999/xhtml\"><head><meta content=\"application/xhtml+xml; charset=utf-8\" http-equiv=\"Content-Type\"/><meta content=\"no-cache\" name=\"Cache-Control\"/><title>sudhanshu kumar - Google Search</title><style>a{text-decoration:none;color:inherit}a:hover{text-decoration:underline}a img{border:0}body{font-family:arial,sans-serif;padding:8px;margin:0 auto;max-width:700px;min-width:240px;}.FbhRzb{border-left:thin solid #dadce0;border-right:thin solid #dadce0;border-top:thin solid #dadce0;height:40px;overflow:hidden}.n692Zd{margin-bottom:10px}.cvifge{height:40px;border-spacing:0}.QvGUP{height:40px;padding:0 8px 0 8px;vertical-align:top}.O4cRJf{height:40px;width:100%;padding:0;padding-right:14px}.O1ePr{height:40px;padding:0;vertical-align:top}.kgJEQe{height:36px;width:98px;vertical-align:top;margin-top:4px}.lXLRf{vertical-align:top}.MhzMZd{border:0;vertical-align:middle;font-size:14px;height:40px;padding:0;width:100%;padding-left:14px}.xB0fq{height:40px;border:none;font-size:14px;background-color:#1a73e8;color:#fff;padding:0 14px;margin:0;vertical-align:top;cursor:pointer}.xB0fq:focus{border:1px solid #1a73e8}.M7pB2{border:thin solid #dadce0;margin:0 0 3px 0;font-size:13px;font-weight:500;height:40px}.euZec{width:100%;height:40px;text-align:center;border-spacing:0}table.euZec td{padding:0;width:25%}.QIqI7{display:inline-block;padding-top:4px;font-weight:bold;color:#4285f4}.EY24We{border-bottom:2px solid #4285f4}.CsQyDc{display:inline-block;color:#70757a}.TuS8Ad{font-size:14px}.HddGcc{padding:8px;color:#70757a}.dzp8ae{font-weight:bold;color:#3c4043}.rEM8G{color:#70757a}.bookcf{table-layout:fixed;width:100%;border-spacing:0}.InWNIe{text-align:center}.uZgmoc{border:thin solid #dadce0;color:#70757a;font-size:14px;text-align:center;table-layout:fixed;width:100%}.frGj1b{display:block;padding:16px 0 12px 0;width:100%}.BnJWBc{text-align:center;padding:6px 0 13px 0;height:35px}.e3goi{vertical-align:top;padding:0;height:180px}.GpQGbf{margin:auto;border-collapse:collapse;border-spacing:0;width:100%}</style></head><body><style>.X6ZCif{color:#202124;font-size:11px;line-height:16px;display:inline-block;padding-top:2px;overflow:hidden;padding-bottom:4px;width:100%}.TwVfHd{border-radius:16px;border:thin solid #dadce0;display:inline-block;padding:8px 8px;margin-right:8px;margin-bottom:4px}.yekiAe{background-color:#dadce0}.jjVJ4e{width:100%}.ezO2md{border:thin solid #dadce0;padding:16px 14px 12px 14px;margin-bottom:10px;font-family:arial,sans-serif}.lIMUZd{font-family:arial,sans-serif}.RntSmf{border-spacing:0}.lgD2Tc{width:100%}.SpelHe{text-align:center}.SpelHe{position:relative}.kCmkOe{position:relative}.kCmkOe{width:162px;height:140px;line-height:140px;overflow:'hidden';text-align:center}.DS1iW{text-align:center;margin:auto;vertical-align:middle;max-width:162px;max-height:140px}.AlD19d{padding-top:2px;padding-bottom:8px;}.fYyStc{word-break:break-word}.ynsChf{display:block;white-space:nowrap;overflow:hidden;text-overflow:ellipsis}.Fj3V3b{color:#1967d2;font-size:14px;line-height:20px}.FrIlee{color:#202124;font-size:11px;line-height:16px}.F9iS2e{color:#70757a;font-size:11px;line-height:16px}.WMQ2Le{color:#70757a;font-size:12px;line-height:16px}.x3G5ab{color:#202124;font-size:12px;line-height:16px}.fuLhoc{color:#1967d2;font-size:16px;line-height:20px}.epoveb{font-size:24px;line-height:28px;font-weight:400;color:#202124}.dXDvrc{color:#0d652d;font-size:14px;line-height:20px;word-wrap:break-word}.dloBPe{font-weight:bold}.YVIcad{color:#70757a}.JkVVdd{color:#ea4335}.oXZRFd{color:#ea4335}.MQHtg{color:#fbbc04}.pyMRrb{color:#1e8e3e}.EtTZid{color:#1e8e3e}.M3vVJe{color:#1967d2}.qXLe6d{display:block}.NHQNef{font-style:italic}.Cb8Z7c{white-space:pre}a.ZWRArf{text-decoration:none}a .CVA68e:hover{text-decoration:underline}</style><div class=\"n692Zd\"><div class=\"BnJWBc\"><a class=\"lXLRf\" href=\"/?sa=X&amp;sca_esv=c4c1450a5839235a&amp;biw=1396&amp;bih=680&amp;output=images&amp;ie=UTF-8&amp;tbm=isch&amp;ved=0ahUKEwjD9qaa-bOIAxWuUGcHHe9YDbAQPAgC\"><img alt=\"Google\" class=\"kgJEQe\" src=\"/images/branding/searchlogo/1x/googlelogo_desk_heirloom_color_150x55dp.gif\"/></a></div><div class=\"FbhRzb\"><form action=\"/search\"><input name=\"sca_esv\" type=\"hidden\" value=\"c4c1450a5839235a\"/><input name=\"biw\" type=\"hidden\" value=\"1396\"/><input name=\"bih\" type=\"hidden\" value=\"680\"/><input name=\"ie\" type=\"hidden\" value=\"ISO-8859-1\"/><input name=\"tbm\" type=\"hidden\" value=\"isch\"/><input name=\"oq\" type=\"hidden\"/><input name=\"aqs\" type=\"hidden\"/><table class=\"cvifge\"><tr><td class=\"O4cRJf\"><input class=\"MhzMZd\" name=\"q\" type=\"text\" value=\"sudhanshu kumar\"/></td><td class=\"O1ePr\"><input class=\"xB0fq\" type=\"submit\" value=\"Search\"/></td></tr></table></form></div><div class=\"M7pB2\"><table class=\"euZec\"><tbody><tr><td><a class=\"CsQyDc\" href=\"/search?q=sudhanshu+kumar&amp;sca_esv=c4c1450a5839235a&amp;biw=1396&amp;bih=680&amp;ie=UTF-8&amp;source=lnms&amp;fbs=AEQNm0CvspUPonaF8UH5s_LBD3JPX4RSeMPt9v8oIaeGMh2T2D1DyqhnuPxLgMgOaYPYX7OtOF4SxbM4YPsyWUMdeXRPwkyeRplzDXh9KJHChwS6KCbBVodhGp-AcH8homeOiCGyiZuaY1G_5tedT4jPIsiksMA7BGF31HBi471hLFrmywtqgnVty39wwsA8UmD7ZxvUBA98n-Cb4_QpoQbmkWQCbrUVMQ&amp;sa=X&amp;ved=0ahUKEwjD9qaa-bOIAxWuUGcHHe9YDbAQ_AUIBCgA\">ALL</a></td><td><a class=\"CsQyDc\" href=\"/search?q=sudhanshu+kumar&amp;sca_esv=c4c1450a5839235a&amp;biw=1396&amp;bih=680&amp;ie=UTF-8&amp;tbm=nws&amp;source=lnms&amp;fbs=AEQNm0CvspUPonaF8UH5s_LBD3JPX4RSeMPt9v8oIaeGMh2T2D1DyqhnuPxLgMgOaYPYX7OtOF4SxbM4YPsyWUMdeXRPwkyeRplzDXh9KJHChwS6KCbBVodhGp-AcH8homeOiCGyiZuaY1G_5tedT4jPIsiksMA7BGF31HBi471hLFrmywtqgnVty39wwsA8UmD7ZxvUBA98n-Cb4_QpoQbmkWQCbrUVMQ&amp;sa=X&amp;ved=0ahUKEwjD9qaa-bOIAxWuUGcHHe9YDbAQ_AUIBSgB\">NEWS</a></td><td class=\"EY24We\"><span class=\"QIqI7\">IMAGES</span></td><td><a class=\"CsQyDc\" href=\"/search?q=sudhanshu+kumar&amp;sca_esv=c4c1450a5839235a&amp;biw=1396&amp;bih=680&amp;ie=UTF-8&amp;tbm=vid&amp;source=lnms&amp;fbs=AEQNm0CvspUPonaF8UH5s_LBD3JPX4RSeMPt9v8oIaeGMh2T2D1DyqhnuPxLgMgOaYPYX7OtOF4SxbM4YPsyWUMdeXRPwkyeRplzDXh9KJHChwS6KCbBVodhGp-AcH8homeOiCGyiZuaY1G_5tedT4jPIsiksMA7BGF31HBi471hLFrmywtqgnVty39wwsA8UmD7ZxvUBA98n-Cb4_QpoQbmkWQCbrUVMQ&amp;sa=X&amp;ved=0ahUKEwjD9qaa-bOIAxWuUGcHHe9YDbAQ_AUIBygD\">VIDEOS</a></td></tr></tbody></table></div></div><div><table class=\"GpQGbf\"><tr><td align=\"center\" class=\"e3goi\"><div class=\"jjVJ4e\"> <div> <div class=\"lIMUZd\"><div><table class=\"RntSmf\"><tr><td><a href=\"/url?q=https://in.linkedin.com/in/sudhanshu-kumar-6242ab204&amp;sa=U&amp;ved=2ahUKEwjD9qaa-bOIAxWuUGcHHe9YDbAQqoUBegQIBRAB&amp;usg=AOvVaw0rwbq-ODTvetRUI4f3CZKK\"><div class=\"kCmkOe\"><img alt=\"\" class=\"DS1iW\" src=\"https://encrypted-tbn0.gstatic.com/images?q=tbn:ANd9GcTddI5va8AWC7QBbFqVOJs5s5pEyO02w1GcBIMSZwbICXFce1PV6Y5haLFnWgg&amp;s\"/></div></a></td></tr><tr><td><a href=\"/url?q=https://in.linkedin.com/in/sudhanshu-kumar-6242ab204&amp;sa=U&amp;ved=2ahUKEwjD9qaa-bOIAxWuUGcHHe9YDbAQr4kDegQIBRAC&amp;usg=AOvVaw0AziZ7sUcrAQov55ntJrjN\"><div class=\"AlD19d\"> <span class=\"qXLe6d x3G5ab\"> <span class=\"fYyStc\">Sudhanshu Kumar - PW...</span> </span> <span class=\"qXLe6d F9iS2e\"> <span class=\"fYyStc\">in.linkedin.com</span> </span> </div></a></td></tr></table></div></div> </div> </div></td><td align=\"center\" class=\"e3goi\"><div class=\"jjVJ4e\"> <div> <div class=\"lIMUZd\"><div><table class=\"RntSmf\"><tr><td><a href=\"/url?q=https://www.imdb.com/name/nm3883993/&amp;sa=U&amp;ved=2ahUKEwjD9qaa-bOIAxWuUGcHHe9YDbAQqoUBegQIEhAB&amp;usg=AOvVaw2faV-vW0eBjBeW6fE0oE8B\"><div class=\"kCmkOe\"><img alt=\"\" class=\"DS1iW\" src=\"https://encrypted-tbn0.gstatic.com/images?q=tbn:ANd9GcScLLrTJ7W5IouGlFwhC_yxgJ11pSvXYdOLvNe-WVXO00kgHMEONl1XQ3L7qQ&amp;s\"/></div></a></td></tr><tr><td><a href=\"/url?q=https://www.imdb.com/name/nm3883993/&amp;sa=U&amp;ved=2ahUKEwjD9qaa-bOIAxWuUGcHHe9YDbAQr4kDegQIEhAC&amp;usg=AOvVaw3c9AyaosNZfRHpWUZitCWi\"><div class=\"AlD19d\"> <span class=\"qXLe6d x3G5ab\"> <span class=\"fYyStc\">Sudhanshu Kumar - IMDb</span> </span> <span class=\"qXLe6d F9iS2e\"> <span class=\"fYyStc\">www.imdb.com</span> </span> </div></a></td></tr></table></div></div> </div> </div></td><td align=\"center\" class=\"e3goi\"><div class=\"jjVJ4e\"> <div> <div class=\"lIMUZd\"><div><table class=\"RntSmf\"><tr><td><a href=\"/url?q=https://avenuemail.in/jamshedpurs-sudhanshu-kumar-sells-edtech-co-ineuron-ai/&amp;sa=U&amp;ved=2ahUKEwjD9qaa-bOIAxWuUGcHHe9YDbAQqoUBegQIExAB&amp;usg=AOvVaw0RVSB1EEcefx2d3NxhJVDw\"><div class=\"kCmkOe\"><img alt=\"\" class=\"DS1iW\" src=\"https://encrypted-tbn0.gstatic.com/images?q=tbn:ANd9GcRjUkSyg4dtexnrXZIohPDgi0tWIM-7kZ7E1K6_k-R82L98WR2mEk7B5u2IIQ&amp;s\"/></div></a></td></tr><tr><td><a href=\"/url?q=https://avenuemail.in/jamshedpurs-sudhanshu-kumar-sells-edtech-co-ineuron-ai/&amp;sa=U&amp;ved=2ahUKEwjD9qaa-bOIAxWuUGcHHe9YDbAQr4kDegQIExAC&amp;usg=AOvVaw3h0ejC4WBpzB7EkR-ugExv\"><div class=\"AlD19d\"> <span class=\"qXLe6d x3G5ab\"> <span class=\"fYyStc\">Jamshedpur's Sudhanshu...</span> </span> <span class=\"qXLe6d F9iS2e\"> <span class=\"fYyStc\">avenuemail.in</span> </span> </div></a></td></tr></table></div></div> </div> </div></td><td align=\"center\" class=\"e3goi\"><div class=\"jjVJ4e\"> <div> <div class=\"lIMUZd\"><div><table class=\"RntSmf\"><tr><td><a href=\"/url?q=https://www.instagram.com/sudhanshusir_chemistry/&amp;sa=U&amp;ved=2ahUKEwjD9qaa-bOIAxWuUGcHHe9YDbAQqoUBegQIEBAB&amp;usg=AOvVaw3w40SBc3t6U-9bxVfGTCPD\"><div class=\"kCmkOe\"><img alt=\"\" class=\"DS1iW\" src=\"https://encrypted-tbn0.gstatic.com/images?q=tbn:ANd9GcRLWgn0YmnyE6OhRXy2HTt_SpMYCF5WH7c2HKa9oFLIhoOQ__0asvkR1GzX8Q&amp;s\"/></div></a></td></tr><tr><td><a href=\"/url?q=https://www.instagram.com/sudhanshusir_chemistry/&amp;sa=U&amp;ved=2ahUKEwjD9qaa-bOIAxWuUGcHHe9YDbAQr4kDegQIEBAC&amp;usg=AOvVaw3WOXEcR1zwJkaczcOVxLYU\"><div class=\"AlD19d\"> <span class=\"qXLe6d x3G5ab\"> <span class=\"fYyStc\">Sudhanshu Kumar...</span> </span> <span class=\"qXLe6d F9iS2e\"> <span class=\"fYyStc\">www.instagram.com</span> </span> </div></a></td></tr></table></div></div> </div> </div></td></tr><tr><td align=\"center\" class=\"e3goi\"><div class=\"jjVJ4e\"> <div> <div class=\"lIMUZd\"><div><table class=\"RntSmf\"><tr><td><a href=\"/url?q=https://analyticsindiamag.com/intellectual-ai-discussions/meet-sudhanshu-kumar-a-techie-who-was-inspired-by-detective-stories-to-become-a-data-scientist/&amp;sa=U&amp;ved=2ahUKEwjD9qaa-bOIAxWuUGcHHe9YDbAQqoUBegQIChAB&amp;usg=AOvVaw3cySauOl5WYC4RenrRwT9m\"><div class=\"kCmkOe\"><img alt=\"\" class=\"DS1iW\" src=\"https://encrypted-tbn0.gstatic.com/images?q=tbn:ANd9GcRT4-B0nl-K0t0F4G6JmfLtD4s_h-LPaSbSi5u724ckAdF5gGMzOyQ2oCRlEQ&amp;s\"/></div></a></td></tr><tr><td><a href=\"/url?q=https://analyticsindiamag.com/intellectual-ai-discussions/meet-sudhanshu-kumar-a-techie-who-was-inspired-by-detective-stories-to-become-a-data-scientist/&amp;sa=U&amp;ved=2ahUKEwjD9qaa-bOIAxWuUGcHHe9YDbAQr4kDegQIChAC&amp;usg=AOvVaw2WhTij1G_cV7h71pcPlX7j\"><div class=\"AlD19d\"> <span class=\"qXLe6d x3G5ab\"> <span class=\"fYyStc\">Meet Sudhanshu Kumar, A...</span> </span> <span class=\"qXLe6d F9iS2e\"> <span class=\"fYyStc\">analyticsindiamag.com</span> </span> </div></a></td></tr></table></div></div> </div> </div></td><td align=\"center\" class=\"e3goi\"><div class=\"jjVJ4e\"> <div> <div class=\"lIMUZd\"><div><table class=\"RntSmf\"><tr><td><a href=\"/url?q=https://twitter.com/sudhanshuksingh&amp;sa=U&amp;ved=2ahUKEwjD9qaa-bOIAxWuUGcHHe9YDbAQqoUBegQICRAB&amp;usg=AOvVaw2FeZS-VFxs7uI2F4CNb22y\"><div class=\"kCmkOe\"><img alt=\"\" class=\"DS1iW\" src=\"https://encrypted-tbn0.gstatic.com/images?q=tbn:ANd9GcQKcFDqSNocctdXX2hz4uqhkQ-jL0tMIU2fitur_CuqbKGMrcXI38mzdX-SYQ&amp;s\"/></div></a></td></tr><tr><td><a href=\"/url?q=https://twitter.com/sudhanshuksingh&amp;sa=U&amp;ved=2ahUKEwjD9qaa-bOIAxWuUGcHHe9YDbAQr4kDegQICRAC&amp;usg=AOvVaw2zA0o9PJIlvr_s9Qe1qMZe\"><div class=\"AlD19d\"> <span class=\"qXLe6d x3G5ab\"> <span class=\"fYyStc\">Sudhanshu Kumar...</span> </span> <span class=\"qXLe6d F9iS2e\"> <span class=\"fYyStc\">twitter.com</span> </span> </div></a></td></tr></table></div></div> </div> </div></td><td align=\"center\" class=\"e3goi\"><div class=\"jjVJ4e\"> <div> <div class=\"lIMUZd\"><div><table class=\"RntSmf\"><tr><td><a href=\"/url?q=https://university.acton.org/faculty/sudhanshu-kumar&amp;sa=U&amp;ved=2ahUKEwjD9qaa-bOIAxWuUGcHHe9YDbAQqoUBegQIDhAB&amp;usg=AOvVaw1wxehMTptYszRv3fSAOY3n\"><div class=\"kCmkOe\"><img alt=\"\" class=\"DS1iW\" src=\"https://encrypted-tbn0.gstatic.com/images?q=tbn:ANd9GcRJqqj91HwiCew3spWsT24wnAIxT7AkpLEeQYUcNPiU8bc61S0wQHADnuxl0j8&amp;s\"/></div></a></td></tr><tr><td><a href=\"/url?q=https://university.acton.org/faculty/sudhanshu-kumar&amp;sa=U&amp;ved=2ahUKEwjD9qaa-bOIAxWuUGcHHe9YDbAQr4kDegQIDhAC&amp;usg=AOvVaw1xVkn1w03tn-w4xKwEY6Uu\"><div class=\"AlD19d\"> <span class=\"qXLe6d x3G5ab\"> <span class=\"fYyStc\">Sudhanshu Kumar</span> </span> <span class=\"qXLe6d F9iS2e\"> <span class=\"fYyStc\">university.acton.org</span> </span> </div></a></td></tr></table></div></div> </div> </div></td><td align=\"center\" class=\"e3goi\"><div class=\"jjVJ4e\"> <div> <div class=\"lIMUZd\"><div><table class=\"RntSmf\"><tr><td><a href=\"/url?q=https://www.imdb.com/name/nm10381977/&amp;sa=U&amp;ved=2ahUKEwjD9qaa-bOIAxWuUGcHHe9YDbAQqoUBegQIDBAB&amp;usg=AOvVaw1uQgWMr_YfQDIl8gXCJvk-\"><div class=\"kCmkOe\"><img alt=\"\" class=\"DS1iW\" src=\"https://encrypted-tbn0.gstatic.com/images?q=tbn:ANd9GcRfTvaxt136SwTeLNOcn_DhrPO_0OFZoGJn1SfWkFDUKVAs6_8Mn12pB0byL6E&amp;s\"/></div></a></td></tr><tr><td><a href=\"/url?q=https://www.imdb.com/name/nm10381977/&amp;sa=U&amp;ved=2ahUKEwjD9qaa-bOIAxWuUGcHHe9YDbAQr4kDegQIDBAC&amp;usg=AOvVaw0NPGRKHlb2xE5AzX09dpj7\"><div class=\"AlD19d\"> <span class=\"qXLe6d x3G5ab\"> <span class=\"fYyStc\">SudhaNshu Kumar - IMDb</span> </span> <span class=\"qXLe6d F9iS2e\"> <span class=\"fYyStc\">www.imdb.com</span> </span> </div></a></td></tr></table></div></div> </div> </div></td></tr><tr><td align=\"center\" class=\"e3goi\"><div class=\"jjVJ4e\"> <div> <div class=\"lIMUZd\"><div><table class=\"RntSmf\"><tr><td><a href=\"/url?q=https://speakerhub.com/speaker/sudhanshu-kumar&amp;sa=U&amp;ved=2ahUKEwjD9qaa-bOIAxWuUGcHHe9YDbAQqoUBegQIERAB&amp;usg=AOvVaw0F1ZvnQreIJGQKC9SmJzrj\"><div class=\"kCmkOe\"><img alt=\"\" class=\"DS1iW\" src=\"https://encrypted-tbn0.gstatic.com/images?q=tbn:ANd9GcSIQybgmlybpBGymlWP9RkFxj7CgScY0xx4sB2A45ZaIJcdodkUANpOHKXLxg&amp;s\"/></div></a></td></tr><tr><td><a href=\"/url?q=https://speakerhub.com/speaker/sudhanshu-kumar&amp;sa=U&amp;ved=2ahUKEwjD9qaa-bOIAxWuUGcHHe9YDbAQr4kDegQIERAC&amp;usg=AOvVaw163xmjycomBrsHyc0HhAJo\"><div class=\"AlD19d\"> <span class=\"qXLe6d x3G5ab\"> <span class=\"fYyStc\">Sudhanshu Kumar |...</span> </span> <span class=\"qXLe6d F9iS2e\"> <span class=\"fYyStc\">speakerhub.com</span> </span> </div></a></td></tr></table></div></div> </div> </div></td><td align=\"center\" class=\"e3goi\"><div class=\"jjVJ4e\"> <div> <div class=\"lIMUZd\"><div><table class=\"RntSmf\"><tr><td><a href=\"/url?q=https://theprint.in/ani-press-releases/pandemic-gave-opportunity-to-new-ott-players-in-digital-space-sudhanshu-kumar-founder-of-bollywood-society/654112/&amp;sa=U&amp;ved=2ahUKEwjD9qaa-bOIAxWuUGcHHe9YDbAQqoUBegQIDxAB&amp;usg=AOvVaw14yNDHgd0cgiinO2eOXdk0\"><div class=\"kCmkOe\"><img alt=\"\" class=\"DS1iW\" src=\"https://encrypted-tbn0.gstatic.com/images?q=tbn:ANd9GcTUNy1XXjjYhgLj_24gJAAOYAzjTbw-C6XSUNC5EWl8F0RbMSObq91gTxtskQ&amp;s\"/></div></a></td></tr><tr><td><a href=\"/url?q=https://theprint.in/ani-press-releases/pandemic-gave-opportunity-to-new-ott-players-in-digital-space-sudhanshu-kumar-founder-of-bollywood-society/654112/&amp;sa=U&amp;ved=2ahUKEwjD9qaa-bOIAxWuUGcHHe9YDbAQr4kDegQIDxAC&amp;usg=AOvVaw2d0hfLkNl1SZYBENZNqr4Y\"><div class=\"AlD19d\"> <span class=\"qXLe6d x3G5ab\"> <span class=\"fYyStc\">Pandemic gave opportunity...</span> </span> <span class=\"qXLe6d F9iS2e\"> <span class=\"fYyStc\">theprint.in</span> </span> </div></a></td></tr></table></div></div> </div> </div></td><td align=\"center\" class=\"e3goi\"><div class=\"jjVJ4e\"> <div> <div class=\"lIMUZd\"><div><table class=\"RntSmf\"><tr><td><a href=\"/url?q=https://www.nls.ac.in/faculty/dr-sudhanshu-kumar/&amp;sa=U&amp;ved=2ahUKEwjD9qaa-bOIAxWuUGcHHe9YDbAQqoUBegQICxAB&amp;usg=AOvVaw1ZKDN5893qt_iq0CzimPwq\"><div class=\"kCmkOe\"><img alt=\"\" class=\"DS1iW\" src=\"https://encrypted-tbn0.gstatic.com/images?q=tbn:ANd9GcSV0emDoPWj5xeMLOp_DHzuDT2kyydng73UcOXIdGetpbVpGJRrk05gqjoOFw&amp;s\"/></div></a></td></tr><tr><td><a href=\"/url?q=https://www.nls.ac.in/faculty/dr-sudhanshu-kumar/&amp;sa=U&amp;ved=2ahUKEwjD9qaa-bOIAxWuUGcHHe9YDbAQr4kDegQICxAC&amp;usg=AOvVaw38vzPcqH9lEeNdPz4VAqEu\"><div class=\"AlD19d\"> <span class=\"qXLe6d x3G5ab\"> <span class=\"fYyStc\">Dr. Sudhanshu Kumar -...</span> </span> <span class=\"qXLe6d F9iS2e\"> <span class=\"fYyStc\">www.nls.ac.in</span> </span> </div></a></td></tr></table></div></div> </div> </div></td><td align=\"center\" class=\"e3goi\"><div class=\"jjVJ4e\"> <div> <div class=\"lIMUZd\"><div><table class=\"RntSmf\"><tr><td><a href=\"/url?q=https://www.aninews.in/news/business/digital-sukoon-founder-sudhanshu-kumar-receives-best-digital-agency-award20190410154522&amp;sa=U&amp;ved=2ahUKEwjD9qaa-bOIAxWuUGcHHe9YDbAQqoUBegQIDRAB&amp;usg=AOvVaw2wfZFpSrAqZg2Zj-6f_wuJ\"><div class=\"kCmkOe\"><img alt=\"\" class=\"DS1iW\" src=\"https://encrypted-tbn0.gstatic.com/images?q=tbn:ANd9GcT6p48WTyIXmcJIRZS0dGxAmb_tefirSYcFbxWZq7zXHlo6akzsIEksWvm48Q&amp;s\"/></div></a></td></tr><tr><td><a href=\"/url?q=https://www.aninews.in/news/business/digital-sukoon-founder-sudhanshu-kumar-receives-best-digital-agency-award20190410154522&amp;sa=U&amp;ved=2ahUKEwjD9qaa-bOIAxWuUGcHHe9YDbAQr4kDegQIDRAC&amp;usg=AOvVaw3ZHgxebxJaF_h4t342p5NC\"><div class=\"AlD19d\"> <span class=\"qXLe6d x3G5ab\"> <span class=\"fYyStc\">Digital Sukoon founder,...</span> </span> <span class=\"qXLe6d F9iS2e\"> <span class=\"fYyStc\">www.aninews.in</span> </span> </div></a></td></tr></table></div></div> </div> </div></td></tr><tr><td align=\"center\" class=\"e3goi\"><div class=\"jjVJ4e\"> <div> <div class=\"lIMUZd\"><div><table class=\"RntSmf\"><tr><td><a href=\"/url?q=https://in.linkedin.com/in/-sudhanshu-kumar&amp;sa=U&amp;ved=2ahUKEwjD9qaa-bOIAxWuUGcHHe9YDbAQqoUBegQIAxAB&amp;usg=AOvVaw0YhQmVR27Lojwy56vcRqjP\"><div class=\"kCmkOe\"><img alt=\"\" class=\"DS1iW\" src=\"https://encrypted-tbn0.gstatic.com/images?q=tbn:ANd9GcTSLD0PEqbUaA4O1t4Wh2PH3Je_UZw6fHNp1K_1n4pw2nM6WGbBaof2SA5HH8s&amp;s\"/></div></a></td></tr><tr><td><a href=\"/url?q=https://in.linkedin.com/in/-sudhanshu-kumar&amp;sa=U&amp;ved=2ahUKEwjD9qaa-bOIAxWuUGcHHe9YDbAQr4kDegQIAxAC&amp;usg=AOvVaw3225ZuEzFIbSAQ20PRQ4QX\"><div class=\"AlD19d\"> <span class=\"qXLe6d x3G5ab\"> <span class=\"fYyStc\">sudhanshu kumar -...</span> </span> <span class=\"qXLe6d F9iS2e\"> <span class=\"fYyStc\">in.linkedin.com</span> </span> </div></a></td></tr></table></div></div> </div> </div></td><td align=\"center\" class=\"e3goi\"><div class=\"jjVJ4e\"> <div> <div class=\"lIMUZd\"><div><table class=\"RntSmf\"><tr><td><a href=\"/url?q=https://mybigplunge.com/business/ott/pandemic-gave-opportunity-new-ott-players-digital-space-sudhanshu-kumar-founder-bollywood-society/&amp;sa=U&amp;ved=2ahUKEwjD9qaa-bOIAxWuUGcHHe9YDbAQqoUBegQIBBAB&amp;usg=AOvVaw3Vz1oDzOmpM_8nrGKr1pV5\"><div class=\"kCmkOe\"><img alt=\"\" class=\"DS1iW\" src=\"https://encrypted-tbn0.gstatic.com/images?q=tbn:ANd9GcRdiUJWTvYWIqQzMRp9J6176VlscjAl4wZbuUiU0NEd_6UvEw2tASWQyj9gdw&amp;s\"/></div></a></td></tr><tr><td><a href=\"/url?q=https://mybigplunge.com/business/ott/pandemic-gave-opportunity-new-ott-players-digital-space-sudhanshu-kumar-founder-bollywood-society/&amp;sa=U&amp;ved=2ahUKEwjD9qaa-bOIAxWuUGcHHe9YDbAQr4kDegQIBBAC&amp;usg=AOvVaw2ve-63VthxVq7UmXyiC_UD\"><div class=\"AlD19d\"> <span class=\"qXLe6d x3G5ab\"> <span class=\"fYyStc\">Pandemic Gave Opportunity...</span> </span> <span class=\"qXLe6d F9iS2e\"> <span class=\"fYyStc\">mybigplunge.com</span> </span> </div></a></td></tr></table></div></div> </div> </div></td><td align=\"center\" class=\"e3goi\"><div class=\"jjVJ4e\"> <div> <div class=\"lIMUZd\"><div><table class=\"RntSmf\"><tr><td><a href=\"/url?q=https://taxila.in/faculty/sudhanshu-kumar/&amp;sa=U&amp;ved=2ahUKEwjD9qaa-bOIAxWuUGcHHe9YDbAQqoUBegQIARAB&amp;usg=AOvVaw0DPnJXAQARHsLMVsNL-JNm\"><div class=\"kCmkOe\"><img alt=\"\" class=\"DS1iW\" src=\"https://encrypted-tbn0.gstatic.com/images?q=tbn:ANd9GcSbX6ORnP3cCb2W3AoslQNTdEOX_hGgqFNmArSbss9JFjPn-jgSUriLPajFpfk&amp;s\"/></div></a></td></tr><tr><td><a href=\"/url?q=https://taxila.in/faculty/sudhanshu-kumar/&amp;sa=U&amp;ved=2ahUKEwjD9qaa-bOIAxWuUGcHHe9YDbAQr4kDegQIARAC&amp;usg=AOvVaw1jfnbEyzmHXZ3KOh7o0Ola\"><div class=\"AlD19d\"> <span class=\"qXLe6d x3G5ab\"> <span class=\"fYyStc\">Prof. Sudhanshu Kumar -...</span> </span> <span class=\"qXLe6d F9iS2e\"> <span class=\"fYyStc\">taxila.in</span> </span> </div></a></td></tr></table></div></div> </div> </div></td><td align=\"center\" class=\"e3goi\"><div class=\"jjVJ4e\"> <div> <div class=\"lIMUZd\"><div><table class=\"RntSmf\"><tr><td><a href=\"/url?q=https://www.indiconwestfalia.com/mr-sudhanshu-kumar-singh-non-executive-independent-director/&amp;sa=U&amp;ved=2ahUKEwjD9qaa-bOIAxWuUGcHHe9YDbAQqoUBegQIBhAB&amp;usg=AOvVaw0HVQHuUZ7LHOQ7-16W6Axi\"><div class=\"kCmkOe\"><img alt=\"\" class=\"DS1iW\" src=\"https://encrypted-tbn0.gstatic.com/images?q=tbn:ANd9GcRZN1MKCUAn6yeq2kaLZ5bfelIKu0EbrFI2V9aCJcrGnOcJ7YCFEaczUtGpsPM&amp;s\"/></div></a></td></tr><tr><td><a href=\"/url?q=https://www.indiconwestfalia.com/mr-sudhanshu-kumar-singh-non-executive-independent-director/&amp;sa=U&amp;ved=2ahUKEwjD9qaa-bOIAxWuUGcHHe9YDbAQr4kDegQIBhAC&amp;usg=AOvVaw3aBEfDqxsW1Cy4gcqg_Zoj\"><div class=\"AlD19d\"> <span class=\"qXLe6d x3G5ab\"> <span class=\"fYyStc\">Mr. Sudhanshu Kumar Singh,...</span> </span> <span class=\"qXLe6d F9iS2e\"> <span class=\"fYyStc\">www.indiconwestfalia.com</span> </span> </div></a></td></tr></table></div></div> </div> </div></td></tr><tr><td align=\"center\" class=\"e3goi\"><div class=\"jjVJ4e\"> <div> <div class=\"lIMUZd\"><div><table class=\"RntSmf\"><tr><td><a href=\"/url?q=https://www.urbanpro.com/kochi/sudhanshu-kumar&amp;sa=U&amp;ved=2ahUKEwjD9qaa-bOIAxWuUGcHHe9YDbAQqoUBegQIAhAB&amp;usg=AOvVaw0E4zy2Cy8n5kEFDc1aZZ9S\"><div class=\"kCmkOe\"><img alt=\"\" class=\"DS1iW\" src=\"https://encrypted-tbn0.gstatic.com/images?q=tbn:ANd9GcSeeJWwvOjDhgBPFibXYz7pP-DCZpgff_4O_txU13hdOn3gsfRHaWCAeegBubc&amp;s\"/></div></a></td></tr><tr><td><a href=\"/url?q=https://www.urbanpro.com/kochi/sudhanshu-kumar&amp;sa=U&amp;ved=2ahUKEwjD9qaa-bOIAxWuUGcHHe9YDbAQr4kDegQIAhAC&amp;usg=AOvVaw1vAs8NVrXv4HKI6g6vBGxg\"><div class=\"AlD19d\"> <span class=\"qXLe6d x3G5ab\"> <span class=\"fYyStc\">Sudhanshu Kumar - Physics...</span> </span> <span class=\"qXLe6d F9iS2e\"> <span class=\"fYyStc\">www.urbanpro.com</span> </span> </div></a></td></tr></table></div></div> </div> </div></td><td align=\"center\" class=\"e3goi\"><div class=\"jjVJ4e\"> <div> <div class=\"lIMUZd\"><div><table class=\"RntSmf\"><tr><td><a href=\"/url?q=https://www.youtube.com/watch%3Fv%3DO23BB6ddlFk&amp;sa=U&amp;ved=2ahUKEwjD9qaa-bOIAxWuUGcHHe9YDbAQqoUBegQIABAB&amp;usg=AOvVaw2eElXyOAnuvgUUMqT2VvDQ\"><div class=\"kCmkOe\"><img alt=\"\" class=\"DS1iW\" src=\"https://encrypted-tbn0.gstatic.com/images?q=tbn:ANd9GcSyaN2V-f4d289yRtSD0pKP-ocdRYW8qjWNTGA0xdBj68Xn_Ept_4pKPYeIG_Q&amp;s\"/></div></a></td></tr><tr><td><a href=\"/url?q=https://www.youtube.com/watch%3Fv%3DO23BB6ddlFk&amp;sa=U&amp;ved=2ahUKEwjD9qaa-bOIAxWuUGcHHe9YDbAQr4kDegQIABAC&amp;usg=AOvVaw0cBkZxGpY22LDc36PS5F14\"><div class=\"AlD19d\"> <span class=\"qXLe6d x3G5ab\"> <span class=\"fYyStc\">CTwT E399 - ICRB (ISRO)...</span> </span> <span class=\"qXLe6d F9iS2e\"> <span class=\"fYyStc\">www.youtube.com</span> </span> </div></a></td></tr></table></div></div> </div> </div></td><td align=\"center\" class=\"e3goi\"><div class=\"jjVJ4e\"> <div> <div class=\"lIMUZd\"><div><table class=\"RntSmf\"><tr><td><a href=\"/url?q=https://drlogy.com/patna/doctor/dr-sudhanshu-kumar&amp;sa=U&amp;ved=2ahUKEwjD9qaa-bOIAxWuUGcHHe9YDbAQqoUBegQIBxAB&amp;usg=AOvVaw0npKjNdmcXAihsuLc0AUEH\"><div class=\"kCmkOe\"><img alt=\"\" class=\"DS1iW\" src=\"https://encrypted-tbn0.gstatic.com/images?q=tbn:ANd9GcRq99sEqNDiX7kPdBmfRUypcXsfofOZVERsxAyH2F-Tmp86yIMpxPVGlHqwTg&amp;s\"/></div></a></td></tr><tr><td><a href=\"/url?q=https://drlogy.com/patna/doctor/dr-sudhanshu-kumar&amp;sa=U&amp;ved=2ahUKEwjD9qaa-bOIAxWuUGcHHe9YDbAQr4kDegQIBxAC&amp;usg=AOvVaw2oVPNzPgyjUN3fizZLBDuu\"><div class=\"AlD19d\"> <span class=\"qXLe6d x3G5ab\"> <span class=\"fYyStc\">Dr. Sudhanshu Kumar,...</span> </span> <span class=\"qXLe6d F9iS2e\"> <span class=\"fYyStc\">drlogy.com</span> </span> </div></a></td></tr></table></div></div> </div> </div></td><td align=\"center\" class=\"e3goi\"><div class=\"jjVJ4e\"> <div> <div class=\"lIMUZd\"><div><table class=\"RntSmf\"><tr><td><a href=\"/url?q=https://twitter.com/sudhans66666651&amp;sa=U&amp;ved=2ahUKEwjD9qaa-bOIAxWuUGcHHe9YDbAQqoUBegQICBAB&amp;usg=AOvVaw0skvRzYsnbsXH3p8WGNN2E\"><div class=\"kCmkOe\"><img alt=\"\" class=\"DS1iW\" src=\"https://encrypted-tbn0.gstatic.com/images?q=tbn:ANd9GcTmvB834oP1kq6N72QvBJiSrC7lBLwZeVczSHfnnqttoMnAMJRKOZ06CUHDgtw&amp;s\"/></div></a></td></tr><tr><td><a href=\"/url?q=https://twitter.com/sudhans66666651&amp;sa=U&amp;ved=2ahUKEwjD9qaa-bOIAxWuUGcHHe9YDbAQr4kDegQICBAC&amp;usg=AOvVaw0O_MGIY-HFrrCGMKMQ73mq\"><div class=\"AlD19d\"> <span class=\"qXLe6d x3G5ab\"> <span class=\"fYyStc\">Sudhanshu Kumar Official...</span> </span> <span class=\"qXLe6d F9iS2e\"> <span class=\"fYyStc\">twitter.com</span> </span> </div></a></td></tr></table></div></div> </div> </div></td></tr></table></div><table class=\"uZgmoc\"><tbody><td><a class=\"frGj1b\" href=\"/search?q=sudhanshu+kumar&amp;sca_esv=c4c1450a5839235a&amp;biw=1396&amp;bih=680&amp;ie=UTF-8&amp;tbm=isch&amp;ei=6ujdZsPZNK6hnesP77G1gAs&amp;start=20&amp;sa=N\">Next &gt;</a></td></tbody></table><br/><div class=\"TuS8Ad\" data-ved=\"0ahUKEwjD9qaa-bOIAxWuUGcHHe9YDbAQpyoIRQ\"><style>.VYM29{font-weight:bold}</style><div align=\"center\" class=\"HddGcc\"><span class=\"VYM29\">Indore, Madhya Pradesh</span><span> - </span><span>From your IP address</span><span> - </span><a href=\"/url?q=https://support.google.com/websearch%3Fp%3Dws_settings_location%26hl%3Den-IN&amp;opi=89978449&amp;sa=U&amp;ved=0ahUKEwjD9qaa-bOIAxWuUGcHHe9YDbAQty4IRg&amp;usg=AOvVaw16mkyDESFn44j_Oj9-f-ml\">Learn more</a></div><div align=\"center\"><a class=\"rEM8G\" href=\"/url?q=https://accounts.google.com/ServiceLogin%3Fcontinue%3Dhttps://www.google.com/search%253Fsca_esv%253Dc4c1450a5839235a%2526sxsrf%253DADLYWIL_LcIXGYDt13ylZeteNSizM1XnfA:1725818773018%2526q%253Dsudhanshu%252Bkumar%2526fbs%253DAEQNm0CvspUPonaF8UH5s_LBD3JPX4RSeMPt9v8oIaeGMh2T2D1DyqhnuPxLgMgOaYPYX7OtOF4SxbM4YPsyWUMdeXRPwkyeRplzDXh9KJHChwS6KCbBVodhGp-AcH8homeOiCGyiZuaY1G_5tedT4jPIsiksMA7BGF31HBi471hLFrmywtqgnVty39wwsA8UmD7ZxvUBA98n-Cb4_QpoQbmkWQCbrUVMQ%2526sa%253DX%2526ved%253D2ahUKEwi0_6X397OIAxXYzzgGHYbLL8IQtKgLegQIIBAB%2526biw%253D1396%2526bih%253D680%2526dpr%253D1.38%2526tbm%253Disch%26hl%3Den&amp;opi=89978449&amp;sa=U&amp;ved=0ahUKEwjD9qaa-bOIAxWuUGcHHe9YDbAQxs8CCEc&amp;usg=AOvVaw0-IpFhvvrfbCGGirnJKD8g\">Sign in</a></div><div><table class=\"bookcf\"><tbody class=\"InWNIe\"><tr><td><a class=\"rEM8G\" href=\"https://www.google.com/preferences?hl=en&amp;sa=X&amp;ved=0ahUKEwjD9qaa-bOIAxWuUGcHHe9YDbAQv5YECEg\">Settings</a></td><td><a class=\"rEM8G\" href=\"https://www.google.com/intl/en_in/policies/privacy/\">Privacy</a></td><td><a class=\"rEM8G\" href=\"https://www.google.com/intl/en_in/policies/terms/\">Terms</a></td></tr></tbody></table></div></div><div> </div></body></html>"
      ]
     },
     "execution_count": 74,
     "metadata": {},
     "output_type": "execute_result"
    }
   ],
   "source": [
    "soup"
   ]
  },
  {
   "cell_type": "code",
   "execution_count": 85,
   "id": "89e9739b-7926-4123-8cef-b492ba11f590",
   "metadata": {},
   "outputs": [],
   "source": [
    "images_tags = soup.find_all('img')\n"
   ]
  },
  {
   "cell_type": "code",
   "execution_count": 86,
   "id": "f0e4746d-f370-45dd-b4e6-18e8e416d194",
   "metadata": {},
   "outputs": [
    {
     "data": {
      "text/plain": [
       "[<img alt=\"Google\" class=\"kgJEQe\" src=\"/images/branding/searchlogo/1x/googlelogo_desk_heirloom_color_150x55dp.gif\"/>,\n",
       " <img alt=\"\" class=\"DS1iW\" src=\"https://encrypted-tbn0.gstatic.com/images?q=tbn:ANd9GcTddI5va8AWC7QBbFqVOJs5s5pEyO02w1GcBIMSZwbICXFce1PV6Y5haLFnWgg&amp;s\"/>,\n",
       " <img alt=\"\" class=\"DS1iW\" src=\"https://encrypted-tbn0.gstatic.com/images?q=tbn:ANd9GcScLLrTJ7W5IouGlFwhC_yxgJ11pSvXYdOLvNe-WVXO00kgHMEONl1XQ3L7qQ&amp;s\"/>,\n",
       " <img alt=\"\" class=\"DS1iW\" src=\"https://encrypted-tbn0.gstatic.com/images?q=tbn:ANd9GcRjUkSyg4dtexnrXZIohPDgi0tWIM-7kZ7E1K6_k-R82L98WR2mEk7B5u2IIQ&amp;s\"/>,\n",
       " <img alt=\"\" class=\"DS1iW\" src=\"https://encrypted-tbn0.gstatic.com/images?q=tbn:ANd9GcRLWgn0YmnyE6OhRXy2HTt_SpMYCF5WH7c2HKa9oFLIhoOQ__0asvkR1GzX8Q&amp;s\"/>,\n",
       " <img alt=\"\" class=\"DS1iW\" src=\"https://encrypted-tbn0.gstatic.com/images?q=tbn:ANd9GcRT4-B0nl-K0t0F4G6JmfLtD4s_h-LPaSbSi5u724ckAdF5gGMzOyQ2oCRlEQ&amp;s\"/>,\n",
       " <img alt=\"\" class=\"DS1iW\" src=\"https://encrypted-tbn0.gstatic.com/images?q=tbn:ANd9GcQKcFDqSNocctdXX2hz4uqhkQ-jL0tMIU2fitur_CuqbKGMrcXI38mzdX-SYQ&amp;s\"/>,\n",
       " <img alt=\"\" class=\"DS1iW\" src=\"https://encrypted-tbn0.gstatic.com/images?q=tbn:ANd9GcRJqqj91HwiCew3spWsT24wnAIxT7AkpLEeQYUcNPiU8bc61S0wQHADnuxl0j8&amp;s\"/>,\n",
       " <img alt=\"\" class=\"DS1iW\" src=\"https://encrypted-tbn0.gstatic.com/images?q=tbn:ANd9GcRfTvaxt136SwTeLNOcn_DhrPO_0OFZoGJn1SfWkFDUKVAs6_8Mn12pB0byL6E&amp;s\"/>,\n",
       " <img alt=\"\" class=\"DS1iW\" src=\"https://encrypted-tbn0.gstatic.com/images?q=tbn:ANd9GcSIQybgmlybpBGymlWP9RkFxj7CgScY0xx4sB2A45ZaIJcdodkUANpOHKXLxg&amp;s\"/>,\n",
       " <img alt=\"\" class=\"DS1iW\" src=\"https://encrypted-tbn0.gstatic.com/images?q=tbn:ANd9GcTUNy1XXjjYhgLj_24gJAAOYAzjTbw-C6XSUNC5EWl8F0RbMSObq91gTxtskQ&amp;s\"/>,\n",
       " <img alt=\"\" class=\"DS1iW\" src=\"https://encrypted-tbn0.gstatic.com/images?q=tbn:ANd9GcSV0emDoPWj5xeMLOp_DHzuDT2kyydng73UcOXIdGetpbVpGJRrk05gqjoOFw&amp;s\"/>,\n",
       " <img alt=\"\" class=\"DS1iW\" src=\"https://encrypted-tbn0.gstatic.com/images?q=tbn:ANd9GcT6p48WTyIXmcJIRZS0dGxAmb_tefirSYcFbxWZq7zXHlo6akzsIEksWvm48Q&amp;s\"/>,\n",
       " <img alt=\"\" class=\"DS1iW\" src=\"https://encrypted-tbn0.gstatic.com/images?q=tbn:ANd9GcTSLD0PEqbUaA4O1t4Wh2PH3Je_UZw6fHNp1K_1n4pw2nM6WGbBaof2SA5HH8s&amp;s\"/>,\n",
       " <img alt=\"\" class=\"DS1iW\" src=\"https://encrypted-tbn0.gstatic.com/images?q=tbn:ANd9GcRdiUJWTvYWIqQzMRp9J6176VlscjAl4wZbuUiU0NEd_6UvEw2tASWQyj9gdw&amp;s\"/>,\n",
       " <img alt=\"\" class=\"DS1iW\" src=\"https://encrypted-tbn0.gstatic.com/images?q=tbn:ANd9GcSbX6ORnP3cCb2W3AoslQNTdEOX_hGgqFNmArSbss9JFjPn-jgSUriLPajFpfk&amp;s\"/>,\n",
       " <img alt=\"\" class=\"DS1iW\" src=\"https://encrypted-tbn0.gstatic.com/images?q=tbn:ANd9GcRZN1MKCUAn6yeq2kaLZ5bfelIKu0EbrFI2V9aCJcrGnOcJ7YCFEaczUtGpsPM&amp;s\"/>,\n",
       " <img alt=\"\" class=\"DS1iW\" src=\"https://encrypted-tbn0.gstatic.com/images?q=tbn:ANd9GcSeeJWwvOjDhgBPFibXYz7pP-DCZpgff_4O_txU13hdOn3gsfRHaWCAeegBubc&amp;s\"/>,\n",
       " <img alt=\"\" class=\"DS1iW\" src=\"https://encrypted-tbn0.gstatic.com/images?q=tbn:ANd9GcSyaN2V-f4d289yRtSD0pKP-ocdRYW8qjWNTGA0xdBj68Xn_Ept_4pKPYeIG_Q&amp;s\"/>,\n",
       " <img alt=\"\" class=\"DS1iW\" src=\"https://encrypted-tbn0.gstatic.com/images?q=tbn:ANd9GcRq99sEqNDiX7kPdBmfRUypcXsfofOZVERsxAyH2F-Tmp86yIMpxPVGlHqwTg&amp;s\"/>,\n",
       " <img alt=\"\" class=\"DS1iW\" src=\"https://encrypted-tbn0.gstatic.com/images?q=tbn:ANd9GcTmvB834oP1kq6N72QvBJiSrC7lBLwZeVczSHfnnqttoMnAMJRKOZ06CUHDgtw&amp;s\"/>]"
      ]
     },
     "execution_count": 86,
     "metadata": {},
     "output_type": "execute_result"
    }
   ],
   "source": [
    "images_tags"
   ]
  },
  {
   "cell_type": "code",
   "execution_count": 87,
   "id": "e33f70c1-4073-4b80-88ca-3cf23e8516dd",
   "metadata": {},
   "outputs": [
    {
     "data": {
      "text/plain": [
       "21"
      ]
     },
     "execution_count": 87,
     "metadata": {},
     "output_type": "execute_result"
    }
   ],
   "source": [
    "len(images_tags)"
   ]
  },
  {
   "cell_type": "code",
   "execution_count": 88,
   "id": "775b7235-70ce-4826-a15a-0b5bacc1a556",
   "metadata": {},
   "outputs": [],
   "source": [
    "del images_tags[1]"
   ]
  },
  {
   "cell_type": "code",
   "execution_count": 91,
   "id": "25aefd2a-6194-48a3-a921-ebe55a229e97",
   "metadata": {},
   "outputs": [],
   "source": [
    "img_data_mongo = []\n",
    "# for i in images_tags:\n",
    "#     image_url = i['src']\n",
    "#     image_data = requests.get(image_url).content\n",
    "#     mydict = {'index':image_url, 'image': image_data}\n",
    "#     img_data_mongo.append(mydict)\n",
    "#     with open(os.path.join(save_dir,f\"{query}_{image_tags.index(i)}.jpg\",'wb')) as f:\n",
    "#         f.write(image_data)\n",
    "base_url = \"https://www.google.com\"\n",
    "for i in images_tags:\n",
    "    image_url = i['src']\n",
    "    \n",
    "    # Check if the URL is relative, and if so, append the base URL\n",
    "    if not image_url.startswith(('http://', 'https://')):\n",
    "        image_url = base_url + image_url\n",
    "    \n",
    "    image_data = requests.get(image_url).content\n",
    "    mydict = {'index': image_url, 'image': image_data}\n",
    "    img_data_mongo.append(mydict)\n",
    "    with open(os.path.join(save_dir,f\"{query}_{images_tags.index(i)}.jpg\"),'wb') as f:\n",
    "        f.write(image_data)\n",
    "\n",
    "\n",
    "# client = pymongo.MongoClient('mongodb+srv://YogeshKumar:<db_password>@cluster0.khomc.mongodb.net/?retryWrites=true&w=majority&appName=Cluster0')\n",
    "# db = client['image_scrap']\n",
    "# coll_image = db['image_scrape']\n",
    "# coll_image.insert_many(img_data_mongo)"
   ]
  },
  {
   "cell_type": "code",
   "execution_count": null,
   "id": "3996f911-87bc-4545-bf09-d242976ded94",
   "metadata": {},
   "outputs": [],
   "source": []
  },
  {
   "cell_type": "code",
   "execution_count": null,
   "id": "f60e0d7c-a8b3-48e0-ba16-91edd99568a5",
   "metadata": {},
   "outputs": [],
   "source": []
  },
  {
   "cell_type": "code",
   "execution_count": null,
   "id": "25712c52-fddf-493d-98cb-a2c4ad9d32d0",
   "metadata": {},
   "outputs": [],
   "source": []
  }
 ],
 "metadata": {
  "kernelspec": {
   "display_name": "Python 3 (ipykernel)",
   "language": "python",
   "name": "python3"
  },
  "language_info": {
   "codemirror_mode": {
    "name": "ipython",
    "version": 3
   },
   "file_extension": ".py",
   "mimetype": "text/x-python",
   "name": "python",
   "nbconvert_exporter": "python",
   "pygments_lexer": "ipython3",
   "version": "3.12.2"
  },
  "widgets": {
   "application/vnd.jupyter.widget-state+json": {
    "state": {},
    "version_major": 2,
    "version_minor": 0
   }
  }
 },
 "nbformat": 4,
 "nbformat_minor": 5
}
